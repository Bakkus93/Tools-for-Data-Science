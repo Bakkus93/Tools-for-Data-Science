{
  "metadata": {
    "language_info": {
      "codemirror_mode": {
        "name": "python",
        "version": 3
      },
      "file_extension": ".py",
      "mimetype": "text/x-python",
      "name": "python",
      "nbconvert_exporter": "python",
      "pygments_lexer": "ipython3",
      "version": "3.8"
    },
    "kernelspec": {
      "name": "python",
      "display_name": "Python (Pyodide)",
      "language": "python"
    }
  },
  "nbformat_minor": 4,
  "nbformat": 4,
  "cells": [
    {
      "cell_type": "markdown",
      "source": "<h1>Exercise 1: My Jupyter Notebook</h1>\n<h2><strong>Name:</strong> Peer-graded Assignment Data Science Ecosystem</h2>\n<strong>Exercise 2 - Create a markdown cell with the title of the notebook. (1 pt)</strong>\n<h1>Data Science Tools and Ecosystem</h1>\n<strong>Exercise 3 - Create a markdown cell for an introduction. (1 pt)</strong>\n<p>In this notebook, Data Science Tools and Ecosystem are summarized.<p>\n<strong>Objectives:</strong>,\n        <li>List popular languages that Data Scientists use.</li>\n        <li>List commonly used libraries used by Data Scientists.</li>\n        <li>Comment on Data Science tools.</li>\n<p><strong>Exercise 4 - Create a markdown cell to list data science languages. (3 pts)</strong><p>\nSome of the popular languages that Data Scientists use are:\n    <li>Python.</li>\n    <li>R.</li>\n    <li>SQL.</li>\n    <li>Java.</li>\n    <li>Julia.</li>\n    <li>Scala.</li>\n    <li>C/C++.</li>\n    <li>JavaScript.</li>\n<p><strong>Exercise 5 - Create a markdown cell to list data science libraries. (3 pts)</strong><p>\nSome of the commonly used libraries used by Data Scientists include:\n    <li>TensorFlow.</li>\n    <li>NumPy.</li>\n    <li>SciPy.</li>\n    <li>Pandas.</li>\n    <li>Matplotlib.</li>\n    <li>Keras.</li>\n    <li>SciKit-Learn.</li>\n<p><strong>Exercise 6 - Create a markdown cell with a table of Data Science tools. (3 pts)</strong><p>\nData Science Tools:\n<table style=\\\"width:100%\\\">\n<tr>\n<th>Data Science Tools</th>\n<th></th>\n<th></th>\n</tr>\n<tr>\n<td>SAS. It is one of those data science tools which are specifically designed for statistical operation</td>\n<td></td>\n<td></td>\n</tr>\n<tr>\n<td>Apache Spark</td>\n<td></td>\n<td></td>\n</tr>\n<tr>\n<td>BigML</td>\n<td></td>\n<td></td>\n</tr>\n</table>\n<p><strong>Exercise 7 - Create a markdown cell introducing arithmetic expression examples. (1 pt)</strong><p>\n<p><h3>Below are a few examples of evaluating arithmetic expressions in Python</h3><p>\n<p># Arithmetic operations<p>\n<p>code = compile(\\5 + 4\\, \\<string>\\, \\eval\\)<p>\n<p>eval(code)<p>\n<p># Result: 9<p>\n<p><strong>Exercise 8 - Create a code cell to multiply and add numbers.(2 pts)</strong><p>\n<p>This a simple arithmetic expression to mutiply then add integers<p>\n<p>(3*4)+5<p>\n<p># Result: 17<p>\n<p><strong>Exercise 9 - Create a code cell to convert minutes to hours. (2 pts)</strong><p>\n<p>This will convert 200 minutes to hours by diving by 60<p>\n<p>days = 0<p>\n<p>hours = 0<p>\n<p>mins = 0<p>\n<p>\n<p>time = 200<p>\n<p>#days = time / 1440<p>\n<p>leftover_minutes = time % 1440<p>\n<p>hours = leftover_minutes / 60<p>\n<p>#mins = time - (days*1440) - (hours*60)<p>\n<p>print(str(days) + \\\" days, \\\" + str(hours) + \\\" hours, \\\" + str(mins) +  \\\" mins. \\\")<p>\n<p>\n<p># Result: 3.3333333333333335 hours<p>\n<p><strong>Exercise 10 -Insert a markdown cell to list Objectives.</strong>\"<p>\n<strong>Objectives:</strong>,\n        <li>List popular languages that Data Scientists use.</li>\n        <li>List commonly used libraries used by Data Scientists.</li>\n        <li>Comment on Data Science tools.</li>\n<p><strong>Exercise 11 - Create a markdown cell to indicate the Author’s name.</strong><p>\n<h2>Author:</h2> Chinkee Dimaculangan\n",
      "metadata": {}
    }
  ]
}